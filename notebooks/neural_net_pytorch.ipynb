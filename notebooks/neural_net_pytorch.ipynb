{
 "cells": [
  {
   "cell_type": "markdown",
   "id": "ea2ecce1",
   "metadata": {},
   "source": [
    "# Data Preprocessing and Normalization"
   ]
  },
  {
   "cell_type": "code",
   "execution_count": 1,
   "id": "e2b6324f",
   "metadata": {},
   "outputs": [],
   "source": [
    "import torch\n",
    "import torch.nn as nn\n",
    "import torch.optim as optim\n",
    "import numpy as np\n",
    "import pandas as pd\n",
    "import matplotlib.pyplot as plt\n",
    "import seaborn as sns\n",
    "import warnings\n",
    "from sklearn.preprocessing import MinMaxScaler\n",
    "from sklearn.model_selection import train_test_split\n",
    "from sklearn.metrics import r2_score, mean_squared_error, mean_absolute_error\n",
    "\n",
    "warnings.filterwarnings('ignore')"
   ]
  },
  {
   "cell_type": "code",
   "execution_count": 2,
   "id": "ed775d24",
   "metadata": {},
   "outputs": [
    {
     "name": "stdout",
     "output_type": "stream",
     "text": [
      "Using device: cuda\n"
     ]
    }
   ],
   "source": [
    "DEVICE = torch.device(\"cuda\" if torch.cuda.is_available() else \"cpu\")\n",
    "print(f\"Using device: {DEVICE}\")"
   ]
  },
  {
   "cell_type": "code",
   "execution_count": 3,
   "id": "999c1b9d",
   "metadata": {},
   "outputs": [
    {
     "data": {
      "application/vnd.microsoft.datawrangler.viewer.v0+json": {
       "columns": [
        {
         "name": "index",
         "rawType": "int64",
         "type": "integer"
        },
        {
         "name": "startup_id",
         "rawType": "object",
         "type": "string"
        },
        {
         "name": "team_experience",
         "rawType": "int64",
         "type": "integer"
        },
        {
         "name": "market_size_million_usd",
         "rawType": "int64",
         "type": "integer"
        },
        {
         "name": "monthly_active_users",
         "rawType": "int64",
         "type": "integer"
        },
        {
         "name": "monthly_burn_rate_inr",
         "rawType": "int64",
         "type": "integer"
        },
        {
         "name": "funds_raised_inr",
         "rawType": "int64",
         "type": "integer"
        },
        {
         "name": "valuation_inr",
         "rawType": "int64",
         "type": "integer"
        }
       ],
       "ref": "a90d221d-21aa-445d-8196-8ccc178cbc01",
       "rows": [
        [
         "0",
         "S001",
         "7",
         "789",
         "66299",
         "6091495",
         "4183839",
         "263247468"
        ],
        [
         "1",
         "S002",
         "4",
         "939",
         "34866",
         "9106842",
         "666326",
         "172927107"
        ],
        [
         "2",
         "S003",
         "8",
         "42",
         "73630",
         "8817088",
         "649150",
         "313090455"
        ],
        [
         "3",
         "S004",
         "5",
         "57",
         "93657",
         "6374167",
         "20153173",
         "305887183"
        ],
        [
         "4",
         "S005",
         "7",
         "512",
         "61187",
         "841971",
         "118834",
         "84815222"
        ]
       ],
       "shape": {
        "columns": 7,
        "rows": 5
       }
      },
      "text/html": [
       "<div>\n",
       "<style scoped>\n",
       "    .dataframe tbody tr th:only-of-type {\n",
       "        vertical-align: middle;\n",
       "    }\n",
       "\n",
       "    .dataframe tbody tr th {\n",
       "        vertical-align: top;\n",
       "    }\n",
       "\n",
       "    .dataframe thead th {\n",
       "        text-align: right;\n",
       "    }\n",
       "</style>\n",
       "<table border=\"1\" class=\"dataframe\">\n",
       "  <thead>\n",
       "    <tr style=\"text-align: right;\">\n",
       "      <th></th>\n",
       "      <th>startup_id</th>\n",
       "      <th>team_experience</th>\n",
       "      <th>market_size_million_usd</th>\n",
       "      <th>monthly_active_users</th>\n",
       "      <th>monthly_burn_rate_inr</th>\n",
       "      <th>funds_raised_inr</th>\n",
       "      <th>valuation_inr</th>\n",
       "    </tr>\n",
       "  </thead>\n",
       "  <tbody>\n",
       "    <tr>\n",
       "      <th>0</th>\n",
       "      <td>S001</td>\n",
       "      <td>7</td>\n",
       "      <td>789</td>\n",
       "      <td>66299</td>\n",
       "      <td>6091495</td>\n",
       "      <td>4183839</td>\n",
       "      <td>263247468</td>\n",
       "    </tr>\n",
       "    <tr>\n",
       "      <th>1</th>\n",
       "      <td>S002</td>\n",
       "      <td>4</td>\n",
       "      <td>939</td>\n",
       "      <td>34866</td>\n",
       "      <td>9106842</td>\n",
       "      <td>666326</td>\n",
       "      <td>172927107</td>\n",
       "    </tr>\n",
       "    <tr>\n",
       "      <th>2</th>\n",
       "      <td>S003</td>\n",
       "      <td>8</td>\n",
       "      <td>42</td>\n",
       "      <td>73630</td>\n",
       "      <td>8817088</td>\n",
       "      <td>649150</td>\n",
       "      <td>313090455</td>\n",
       "    </tr>\n",
       "    <tr>\n",
       "      <th>3</th>\n",
       "      <td>S004</td>\n",
       "      <td>5</td>\n",
       "      <td>57</td>\n",
       "      <td>93657</td>\n",
       "      <td>6374167</td>\n",
       "      <td>20153173</td>\n",
       "      <td>305887183</td>\n",
       "    </tr>\n",
       "    <tr>\n",
       "      <th>4</th>\n",
       "      <td>S005</td>\n",
       "      <td>7</td>\n",
       "      <td>512</td>\n",
       "      <td>61187</td>\n",
       "      <td>841971</td>\n",
       "      <td>118834</td>\n",
       "      <td>84815222</td>\n",
       "    </tr>\n",
       "  </tbody>\n",
       "</table>\n",
       "</div>"
      ],
      "text/plain": [
       "  startup_id  team_experience  market_size_million_usd  monthly_active_users  \\\n",
       "0       S001                7                      789                 66299   \n",
       "1       S002                4                      939                 34866   \n",
       "2       S003                8                       42                 73630   \n",
       "3       S004                5                       57                 93657   \n",
       "4       S005                7                      512                 61187   \n",
       "\n",
       "   monthly_burn_rate_inr  funds_raised_inr  valuation_inr  \n",
       "0                6091495           4183839      263247468  \n",
       "1                9106842            666326      172927107  \n",
       "2                8817088            649150      313090455  \n",
       "3                6374167          20153173      305887183  \n",
       "4                 841971            118834       84815222  "
      ]
     },
     "execution_count": 3,
     "metadata": {},
     "output_type": "execute_result"
    }
   ],
   "source": [
    "df = pd.read_csv(r'C:\\Users\\kevin\\Desktop\\VSCode\\ScaleDux\\Startup_Scoring_Dataset.csv')\n",
    "df.head()"
   ]
  },
  {
   "cell_type": "code",
   "execution_count": 4,
   "id": "2ac75eaf",
   "metadata": {},
   "outputs": [],
   "source": [
    "df.drop('startup_id', axis=1, inplace=True)"
   ]
  },
  {
   "cell_type": "code",
   "execution_count": 5,
   "id": "d06a6bff",
   "metadata": {},
   "outputs": [],
   "source": [
    "df['monthly_burn_rate_inr'] = df['monthly_burn_rate_inr'].max() - df['monthly_burn_rate_inr']"
   ]
  },
  {
   "cell_type": "code",
   "execution_count": 6,
   "id": "a4e0f89a",
   "metadata": {},
   "outputs": [],
   "source": [
    "num_cols = df.select_dtypes(include=['int64']).columns"
   ]
  },
  {
   "cell_type": "code",
   "execution_count": 7,
   "id": "4c41cc4c",
   "metadata": {},
   "outputs": [],
   "source": [
    "scaler = MinMaxScaler()\n",
    "df[num_cols] = scaler.fit_transform(df[num_cols])"
   ]
  },
  {
   "cell_type": "markdown",
   "id": "012bb5f7",
   "metadata": {},
   "source": [
    "# Feature Engineering"
   ]
  },
  {
   "cell_type": "code",
   "execution_count": 8,
   "id": "04015d1e",
   "metadata": {},
   "outputs": [],
   "source": [
    "# Defining weights for each feature\n",
    "weights = {\n",
    "    'team_experience': 15,\n",
    "    'market_size_million_usd': 20,\n",
    "    'monthly_active_users': 25,\n",
    "    'monthly_burn_rate_inr': 10,\n",
    "    'funds_raised_inr': 15,\n",
    "    'valuation_inr': 15\n",
    "}"
   ]
  },
  {
   "cell_type": "code",
   "execution_count": 9,
   "id": "f64a8d17",
   "metadata": {},
   "outputs": [],
   "source": [
    "features = list(weights.keys())"
   ]
  },
  {
   "cell_type": "code",
   "execution_count": 10,
   "id": "377f45a7",
   "metadata": {},
   "outputs": [],
   "source": [
    "# Calculate composite score by multiplying each feature by its weight and summing them up\n",
    "df['composite_score'] = sum(df[col] * weight for col, weight in weights.items())"
   ]
  },
  {
   "cell_type": "code",
   "execution_count": 11,
   "id": "7539e56c",
   "metadata": {},
   "outputs": [],
   "source": [
    "X = df.drop('composite_score', axis=1).values.astype(np.float32)\n",
    "y = df['composite_score'].values.astype(np.float32)"
   ]
  },
  {
   "cell_type": "code",
   "execution_count": 12,
   "id": "9ba6344a",
   "metadata": {},
   "outputs": [],
   "source": [
    "X_train, X_test, y_train, y_test = train_test_split(X, y, test_size=0.2, random_state=42)"
   ]
  },
  {
   "cell_type": "code",
   "execution_count": 13,
   "id": "9e46ba86",
   "metadata": {},
   "outputs": [],
   "source": [
    "# Convert to PyTorch tensors\n",
    "X_train_tensor = torch.tensor(X_train).to(DEVICE)\n",
    "X_test_tensor = torch.tensor(X_test).to(DEVICE)\n",
    "y_train_tensor = torch.tensor(y_train).view(-1, 1).to(DEVICE)\n",
    "y_test_tensor = torch.tensor(y_test).view(-1, 1).to(DEVICE)"
   ]
  },
  {
   "cell_type": "markdown",
   "id": "b5a05c51",
   "metadata": {},
   "source": [
    "# Model Training and Evaluation"
   ]
  },
  {
   "cell_type": "code",
   "execution_count": 14,
   "id": "9f2b3c02",
   "metadata": {},
   "outputs": [],
   "source": [
    "# Define the neural network model\n",
    "class RegressionNN(nn.Module):\n",
    "    def __init__(self, input_dim):\n",
    "        super(RegressionNN, self).__init__()\n",
    "        self.model = nn.Sequential(\n",
    "            nn.Linear(input_dim, 32),\n",
    "            nn.ReLU(),\n",
    "            nn.Linear(32, 16),\n",
    "            nn.ReLU(),\n",
    "            nn.Linear(16, 1)\n",
    "        )\n",
    "\n",
    "    def forward(self, x):\n",
    "        return self.model(x)"
   ]
  },
  {
   "cell_type": "code",
   "execution_count": 15,
   "id": "f6981dbf",
   "metadata": {},
   "outputs": [],
   "source": [
    "# Initialize the model, loss function, and optimizer\n",
    "model = RegressionNN(len(features)).to(DEVICE)\n",
    "criterion = nn.MSELoss()\n",
    "optimizer = optim.Adam(model.parameters(), lr=0.01)"
   ]
  },
  {
   "cell_type": "code",
   "execution_count": 16,
   "id": "8a0bf940",
   "metadata": {},
   "outputs": [],
   "source": [
    "# Train the model\n",
    "epochs = 300\n",
    "for epoch in range(epochs):\n",
    "    model.train()\n",
    "    optimizer.zero_grad()\n",
    "    outputs = model(X_train_tensor)\n",
    "    loss = criterion(outputs, y_train_tensor)\n",
    "    loss.backward()\n",
    "    optimizer.step()"
   ]
  },
  {
   "cell_type": "code",
   "execution_count": 17,
   "id": "ec18d320",
   "metadata": {},
   "outputs": [
    {
     "name": "stdout",
     "output_type": "stream",
     "text": [
      "R^2 Score: 0.9632\n",
      "Mean Squared Error: 7.9200\n",
      "Mean Absolute Error: 2.2428\n",
      "Root Mean Squared Error: 2.8142\n"
     ]
    }
   ],
   "source": [
    "# Evaluate the model\n",
    "model.eval()\n",
    "with torch.no_grad():\n",
    "    predictions = model(X_test_tensor).cpu().numpy().flatten()\n",
    "    y_true = y_test_tensor.cpu().numpy().flatten()\n",
    "    r2 = r2_score(y_true, predictions)\n",
    "    mse = mean_squared_error(y_true, predictions)\n",
    "    mae = mean_absolute_error(y_true, predictions)\n",
    "    rmse = np.sqrt(mse)\n",
    "\n",
    "print(f\"R^2 Score: {r2:.4f}\")\n",
    "print(f\"Mean Squared Error: {mse:.4f}\")\n",
    "print(f\"Mean Absolute Error: {mae:.4f}\")\n",
    "print(f\"Root Mean Squared Error: {rmse:.4f}\")"
   ]
  },
  {
   "cell_type": "code",
   "execution_count": 18,
   "id": "1747b94d",
   "metadata": {},
   "outputs": [],
   "source": [
    "# Extracting feature importances\n",
    "\n",
    "first_layer_weights = model.model[0].weight.data.cpu().numpy()\n",
    "feature_importance = np.mean(np.abs(first_layer_weights), axis=0)"
   ]
  },
  {
   "cell_type": "code",
   "execution_count": 19,
   "id": "b7a0418f",
   "metadata": {},
   "outputs": [],
   "source": [
    "importance_df = pd.DataFrame({\n",
    "    'Feature': features,\n",
    "    'Importance': feature_importance\n",
    "}).sort_values(by='Importance', ascending=False)"
   ]
  },
  {
   "cell_type": "code",
   "execution_count": 20,
   "id": "e2854c6e",
   "metadata": {},
   "outputs": [
    {
     "name": "stdout",
     "output_type": "stream",
     "text": [
      "\n",
      "Feature Importances from PyTorch Model (First Layer Weights):\n",
      "                   Feature  Importance\n",
      "2     monthly_active_users    0.485411\n",
      "1  market_size_million_usd    0.376948\n",
      "4         funds_raised_inr    0.366369\n",
      "5            valuation_inr    0.317693\n",
      "0          team_experience    0.312095\n",
      "3    monthly_burn_rate_inr    0.268482\n"
     ]
    }
   ],
   "source": [
    "print(\"\\nFeature Importances from PyTorch Model (First Layer Weights):\")\n",
    "print(importance_df)"
   ]
  },
  {
   "cell_type": "code",
   "execution_count": 21,
   "id": "f8102569",
   "metadata": {},
   "outputs": [
    {
     "data": {
      "image/png": "[encoded data removed]",
      "text/plain": [
       "<Figure size 1000x600 with 1 Axes>"
      ]
     },
     "metadata": {},
     "output_type": "display_data"
    }
   ],
   "source": [
    "# Plotting feature importances\n",
    "plt.figure(figsize=(10, 6))\n",
    "sns.barplot(x='Importance', y='Feature', data=importance_df, palette='rocket')\n",
    "plt.title('Feature Importances from PyTorch Neural Network')\n",
    "plt.xlabel('Mean Absolute Weight')\n",
    "plt.ylabel('Feature')\n",
    "plt.tight_layout()\n",
    "plt.savefig(r'C:\\Users\\kevin\\Desktop\\VSCode\\ScaleDux\\output\\feature_importances_pytorch.png')\n",
    "plt.show()"
   ]
  }
 ],
 "metadata": {
  "kernelspec": {
   "display_name": "Python 3",
   "language": "python",
   "name": "python3"
  },
  "language_info": {
   "codemirror_mode": {
    "name": "ipython",
    "version": 3
   },
   "file_extension": ".py",
   "mimetype": "text/x-python",
   "name": "python",
   "nbconvert_exporter": "python",
   "pygments_lexer": "ipython3",
   "version": "3.12.1"
  }
 },
 "nbformat": 4,
 "nbformat_minor": 5
}
